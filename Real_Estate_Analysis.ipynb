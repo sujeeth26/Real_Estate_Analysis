{
 "cells": [
  {
   "cell_type": "code",
   "execution_count": 4,
   "id": "a2bf0c5f-f94a-4c8e-bad9-1daee43c93ae",
   "metadata": {},
   "outputs": [
    {
     "name": "stdout",
     "output_type": "stream",
     "text": [
      "Requirement already satisfied: numpy in /opt/anaconda3/lib/python3.12/site-packages (1.26.4)\n"
     ]
    }
   ],
   "source": [
    "!pip install numpy \n"
   ]
  },
  {
   "cell_type": "code",
   "execution_count": 9,
   "id": "7dd843c8-e152-4b04-99e6-f491d9dc9f65",
   "metadata": {},
   "outputs": [
    {
     "name": "stderr",
     "output_type": "stream",
     "text": [
      "Matplotlib is building the font cache; this may take a moment.\n"
     ]
    }
   ],
   "source": [
    "import pandas as pd\n",
    "import seaborn as sns\n",
    "import matplotlib.pyplot as plt\n",
    "from scipy.stats import f_oneway, ttest_ind, pearsonr"
   ]
  },
  {
   "cell_type": "code",
   "execution_count": 7,
   "id": "95e3b314-4ee7-4df1-b1bb-5a019f933993",
   "metadata": {},
   "outputs": [],
   "source": [
    "data = pd.read_csv(\"Real_Estate.csv\", dtype={'Column_Name': 'str'}, low_memory=False)\n"
   ]
  },
  {
   "cell_type": "code",
   "execution_count": 8,
   "id": "495b2561-e968-4d11-b5c5-67952c269eb2",
   "metadata": {},
   "outputs": [
    {
     "data": {
      "text/html": [
       "<div>\n",
       "<style scoped>\n",
       "    .dataframe tbody tr th:only-of-type {\n",
       "        vertical-align: middle;\n",
       "    }\n",
       "\n",
       "    .dataframe tbody tr th {\n",
       "        vertical-align: top;\n",
       "    }\n",
       "\n",
       "    .dataframe thead th {\n",
       "        text-align: right;\n",
       "    }\n",
       "</style>\n",
       "<table border=\"1\" class=\"dataframe\">\n",
       "  <thead>\n",
       "    <tr style=\"text-align: right;\">\n",
       "      <th></th>\n",
       "      <th>Serial Number</th>\n",
       "      <th>List Year</th>\n",
       "      <th>Date Recorded</th>\n",
       "      <th>Town</th>\n",
       "      <th>Address</th>\n",
       "      <th>Assessed Value</th>\n",
       "      <th>Sale Amount</th>\n",
       "      <th>Sales Ratio</th>\n",
       "      <th>Property Type</th>\n",
       "      <th>Residential Type</th>\n",
       "      <th>Non Use Code</th>\n",
       "      <th>Assessor Remarks</th>\n",
       "      <th>OPM remarks</th>\n",
       "      <th>Location</th>\n",
       "    </tr>\n",
       "  </thead>\n",
       "  <tbody>\n",
       "    <tr>\n",
       "      <th>0</th>\n",
       "      <td>2020177</td>\n",
       "      <td>2020</td>\n",
       "      <td>04/14/2021</td>\n",
       "      <td>Ansonia</td>\n",
       "      <td>323 BEAVER ST</td>\n",
       "      <td>133000.0</td>\n",
       "      <td>248400.0</td>\n",
       "      <td>0.5354</td>\n",
       "      <td>Residential</td>\n",
       "      <td>Single Family</td>\n",
       "      <td>NaN</td>\n",
       "      <td>NaN</td>\n",
       "      <td>NaN</td>\n",
       "      <td>POINT (-73.06822 41.35014)</td>\n",
       "    </tr>\n",
       "    <tr>\n",
       "      <th>1</th>\n",
       "      <td>2020225</td>\n",
       "      <td>2020</td>\n",
       "      <td>05/26/2021</td>\n",
       "      <td>Ansonia</td>\n",
       "      <td>152 JACKSON ST</td>\n",
       "      <td>110500.0</td>\n",
       "      <td>239900.0</td>\n",
       "      <td>0.4606</td>\n",
       "      <td>Residential</td>\n",
       "      <td>Three Family</td>\n",
       "      <td>NaN</td>\n",
       "      <td>NaN</td>\n",
       "      <td>NaN</td>\n",
       "      <td>NaN</td>\n",
       "    </tr>\n",
       "    <tr>\n",
       "      <th>2</th>\n",
       "      <td>2020348</td>\n",
       "      <td>2020</td>\n",
       "      <td>09/13/2021</td>\n",
       "      <td>Ansonia</td>\n",
       "      <td>230 WAKELEE AVE</td>\n",
       "      <td>150500.0</td>\n",
       "      <td>325000.0</td>\n",
       "      <td>0.4630</td>\n",
       "      <td>Commercial</td>\n",
       "      <td>NaN</td>\n",
       "      <td>NaN</td>\n",
       "      <td>NaN</td>\n",
       "      <td>NaN</td>\n",
       "      <td>NaN</td>\n",
       "    </tr>\n",
       "    <tr>\n",
       "      <th>3</th>\n",
       "      <td>2020090</td>\n",
       "      <td>2020</td>\n",
       "      <td>12/14/2020</td>\n",
       "      <td>Ansonia</td>\n",
       "      <td>57 PLATT ST</td>\n",
       "      <td>127400.0</td>\n",
       "      <td>202500.0</td>\n",
       "      <td>0.6291</td>\n",
       "      <td>Residential</td>\n",
       "      <td>Two Family</td>\n",
       "      <td>NaN</td>\n",
       "      <td>NaN</td>\n",
       "      <td>NaN</td>\n",
       "      <td>NaN</td>\n",
       "    </tr>\n",
       "    <tr>\n",
       "      <th>4</th>\n",
       "      <td>200500</td>\n",
       "      <td>2020</td>\n",
       "      <td>09/07/2021</td>\n",
       "      <td>Avon</td>\n",
       "      <td>245 NEW ROAD</td>\n",
       "      <td>217640.0</td>\n",
       "      <td>400000.0</td>\n",
       "      <td>0.5441</td>\n",
       "      <td>Residential</td>\n",
       "      <td>Single Family</td>\n",
       "      <td>NaN</td>\n",
       "      <td>NaN</td>\n",
       "      <td>NaN</td>\n",
       "      <td>NaN</td>\n",
       "    </tr>\n",
       "  </tbody>\n",
       "</table>\n",
       "</div>"
      ],
      "text/plain": [
       "   Serial Number  List Year Date Recorded     Town          Address  \\\n",
       "0        2020177       2020    04/14/2021  Ansonia    323 BEAVER ST   \n",
       "1        2020225       2020    05/26/2021  Ansonia   152 JACKSON ST   \n",
       "2        2020348       2020    09/13/2021  Ansonia  230 WAKELEE AVE   \n",
       "3        2020090       2020    12/14/2020  Ansonia      57 PLATT ST   \n",
       "4         200500       2020    09/07/2021     Avon     245 NEW ROAD   \n",
       "\n",
       "   Assessed Value  Sale Amount  Sales Ratio Property Type Residential Type  \\\n",
       "0        133000.0     248400.0       0.5354   Residential    Single Family   \n",
       "1        110500.0     239900.0       0.4606   Residential     Three Family   \n",
       "2        150500.0     325000.0       0.4630    Commercial              NaN   \n",
       "3        127400.0     202500.0       0.6291   Residential       Two Family   \n",
       "4        217640.0     400000.0       0.5441   Residential    Single Family   \n",
       "\n",
       "  Non Use Code Assessor Remarks OPM remarks                    Location  \n",
       "0          NaN              NaN         NaN  POINT (-73.06822 41.35014)  \n",
       "1          NaN              NaN         NaN                         NaN  \n",
       "2          NaN              NaN         NaN                         NaN  \n",
       "3          NaN              NaN         NaN                         NaN  \n",
       "4          NaN              NaN         NaN                         NaN  "
      ]
     },
     "execution_count": 8,
     "metadata": {},
     "output_type": "execute_result"
    }
   ],
   "source": [
    "data.head()"
   ]
  },
  {
   "cell_type": "code",
   "execution_count": 11,
   "id": "f1497290-c90c-494b-be1f-3817774c0b75",
   "metadata": {},
   "outputs": [],
   "source": [
    "dtype_dict = {\n",
    "    \"Sale Amount\": \"float32\",\n",
    "    \"List Year\": \"int16\",\n",
    "    \"Town\": \"category\",\n",
    "    \"Property Type\": \"category\",\n",
    "    \"Assessed Value\": \"float32\"\n",
    "}\n",
    "\n",
    "df = pd.read_csv(\"Real_Estate.csv\", dtype=dtype_dict, low_memory=False)\n"
   ]
  },
  {
   "cell_type": "code",
   "execution_count": 12,
   "id": "1aab0e34-27ff-44a2-89db-eb10a6bffb47",
   "metadata": {},
   "outputs": [
    {
     "data": {
      "text/plain": [
       "Serial Number             0\n",
       "List Year                 0\n",
       "Date Recorded             2\n",
       "Town                      0\n",
       "Address                  51\n",
       "Assessed Value            0\n",
       "Sale Amount               0\n",
       "Sales Ratio               0\n",
       "Property Type        382446\n",
       "Residential Type     398389\n",
       "Non Use Code         784178\n",
       "Assessor Remarks     926401\n",
       "OPM remarks         1084598\n",
       "Location             799518\n",
       "dtype: int64"
      ]
     },
     "execution_count": 12,
     "metadata": {},
     "output_type": "execute_result"
    }
   ],
   "source": [
    "df.isnull().sum()"
   ]
  },
  {
   "cell_type": "code",
   "execution_count": 13,
   "id": "3def8335-8c65-49dc-ad6d-268fc8636ccb",
   "metadata": {},
   "outputs": [
    {
     "data": {
      "text/plain": [
       "0          False\n",
       "1          False\n",
       "2          False\n",
       "3          False\n",
       "4          False\n",
       "           ...  \n",
       "1097624    False\n",
       "1097625    False\n",
       "1097626    False\n",
       "1097627    False\n",
       "1097628    False\n",
       "Length: 1097629, dtype: bool"
      ]
     },
     "execution_count": 13,
     "metadata": {},
     "output_type": "execute_result"
    }
   ],
   "source": [
    "data.duplicated()"
   ]
  },
  {
   "cell_type": "code",
   "execution_count": null,
   "id": "ac9f0c87-d708-4c8c-8a49-cba1ef2937aa",
   "metadata": {},
   "outputs": [],
   "source": []
  },
  {
   "cell_type": "code",
   "execution_count": 14,
   "id": "f45a454e-2f03-408a-bbac-44482579878d",
   "metadata": {},
   "outputs": [
    {
     "name": "stdout",
     "output_type": "stream",
     "text": [
      "Index(['Serial Number', 'List Year', 'Date Recorded', 'Town', 'Address',\n",
      "       'Assessed Value', 'Sale Amount', 'Sales Ratio', 'Property Type',\n",
      "       'Residential Type'],\n",
      "      dtype='object')\n"
     ]
    }
   ],
   "source": [
    "df = df.drop(columns=['Assessor Remarks', 'OPM remarks', 'Location', 'Non Use Code'], errors='ignore')\n",
    "\n",
    "print(df.columns)\n"
   ]
  },
  {
   "cell_type": "code",
   "execution_count": null,
   "id": "7a7f30db-42b9-4bbf-840c-563534ea6c8e",
   "metadata": {},
   "outputs": [],
   "source": []
  },
  {
   "cell_type": "code",
   "execution_count": 15,
   "id": "5f9ec348-5dfb-4b3d-86b4-d0f3886337be",
   "metadata": {},
   "outputs": [],
   "source": [
    "df = df.dropna(subset=['Date Recorded'])\n"
   ]
  },
  {
   "cell_type": "code",
   "execution_count": 16,
   "id": "8414e99b-61fe-40e1-aaef-0748a20ad3e6",
   "metadata": {},
   "outputs": [],
   "source": [
    "df['Address'] = df['Address'].fillna(\"Unknown Address\")\n"
   ]
  },
  {
   "cell_type": "code",
   "execution_count": 17,
   "id": "437beccb-23db-4e8d-9936-3cc526290f46",
   "metadata": {},
   "outputs": [],
   "source": [
    "# Assume Residential if Sale Amount is below $5M\n",
    "df.loc[df['Property Type'].isna() & (df['Sale Amount'] < 5000000), 'Property Type'] = \"Residential\"\n",
    "\n",
    "# Assume Commercial if Sale Amount is above $5M\n",
    "df.loc[df['Property Type'].isna() & (df['Sale Amount'] >= 5000000), 'Property Type'] = \"Commercial\"\n"
   ]
  },
  {
   "cell_type": "code",
   "execution_count": 18,
   "id": "5e27b0b5-bbab-4349-8cdd-0f8bd588ae4e",
   "metadata": {},
   "outputs": [],
   "source": [
    "df.loc[(df['Property Type'] == \"Residential\") & (df['Residential Type'].isna()), 'Residential Type'] = \"Single Family\"\n"
   ]
  },
  {
   "cell_type": "code",
   "execution_count": 20,
   "id": "9b7c92ed-c048-47ab-aa5a-da3276cc8099",
   "metadata": {},
   "outputs": [
    {
     "name": "stdout",
     "output_type": "stream",
     "text": [
      "Data Types Optimized!\n",
      "<class 'pandas.core.frame.DataFrame'>\n",
      "Index: 1097627 entries, 0 to 1097628\n",
      "Data columns (total 10 columns):\n",
      " #   Column            Non-Null Count    Dtype   \n",
      "---  ------            --------------    -----   \n",
      " 0   Serial Number     1097627 non-null  int64   \n",
      " 1   List Year         1097627 non-null  int16   \n",
      " 2   Date Recorded     1097627 non-null  object  \n",
      " 3   Town              1097627 non-null  category\n",
      " 4   Address           1097627 non-null  object  \n",
      " 5   Assessed Value    1097627 non-null  float32 \n",
      " 6   Sale Amount       1097627 non-null  float32 \n",
      " 7   Sales Ratio       1097627 non-null  float64 \n",
      " 8   Property Type     1097627 non-null  category\n",
      " 9   Residential Type  1079332 non-null  category\n",
      "dtypes: category(3), float32(2), float64(1), int16(1), int64(1), object(2)\n",
      "memory usage: 56.5+ MB\n"
     ]
    }
   ],
   "source": [
    "# Convert 'Sale Amount' and 'Assessed Value' to numeric\n",
    "df['Sale Amount'] = pd.to_numeric(df['Sale Amount'], errors='coerce')\n",
    "df['Assessed Value'] = pd.to_numeric(df['Assessed Value'], errors='coerce')\n",
    "\n",
    "# Convert 'List Year' to integer\n",
    "df['List Year'] = df['List Year'].astype('int16')\n",
    "\n",
    "# Convert categorical columns to 'category' type\n",
    "df['Town'] = df['Town'].astype('category')\n",
    "df['Property Type'] = df['Property Type'].astype('category')\n",
    "df['Residential Type'] = df['Residential Type'].astype('category')\n",
    "\n",
    "print(\"Data Types Optimized!\")\n",
    "df.info()\n"
   ]
  },
  {
   "cell_type": "code",
   "execution_count": null,
   "id": "4adefc65-cd8c-466e-adfd-ee8a5c7e3871",
   "metadata": {},
   "outputs": [],
   "source": []
  },
  {
   "cell_type": "code",
   "execution_count": 22,
   "id": "1d75df79-f534-4622-953f-f2317c444851",
   "metadata": {},
   "outputs": [
    {
     "name": "stdout",
     "output_type": "stream",
     "text": [
      "\n",
      " Final Missing Values Count:\n",
      "Serial Number           0\n",
      "List Year               0\n",
      "Date Recorded           0\n",
      "Town                    0\n",
      "Address                 0\n",
      "Assessed Value          0\n",
      "Sale Amount             0\n",
      "Sales Ratio             0\n",
      "Property Type           0\n",
      "Residential Type    18295\n",
      "dtype: int64\n"
     ]
    }
   ],
   "source": [
    "print(\"\\n Final Missing Values Count:\")\n",
    "print(df.isnull().sum())\n"
   ]
  },
  {
   "cell_type": "code",
   "execution_count": null,
   "id": "b182abdf-e08f-4602-b4ce-3cf3841c1048",
   "metadata": {},
   "outputs": [],
   "source": []
  },
  {
   "cell_type": "code",
   "execution_count": 23,
   "id": "7f65bf43-97ad-4bcd-8716-0546815a2c2f",
   "metadata": {},
   "outputs": [
    {
     "name": "stdout",
     "output_type": "stream",
     "text": [
      "Property Type\n",
      "Residential       531156\n",
      "Single Family     401612\n",
      "Condo             105420\n",
      "Two Family         26408\n",
      "Three Family       12586\n",
      "Commercial          8339\n",
      "Vacant Land         7824\n",
      "Four Family         2150\n",
      "Apartments          1327\n",
      "Industrial           795\n",
      "Public Utility        10\n",
      "Name: count, dtype: int64\n"
     ]
    }
   ],
   "source": [
    "print(df['Property Type'].value_counts())\n"
   ]
  },
  {
   "cell_type": "code",
   "execution_count": null,
   "id": "00a934b6-75b0-4f67-a815-6cf84140a0a0",
   "metadata": {},
   "outputs": [],
   "source": []
  },
  {
   "cell_type": "code",
   "execution_count": 32,
   "id": "5fb21ccc-0224-4fcc-81a5-b8a99789e435",
   "metadata": {},
   "outputs": [],
   "source": [
    "# Fill \"Single Family\" where Property Type is just \"Residential\"\n",
    "df.loc[(df['Property Type'] == \"Residential\") & (df['Residential Type'].isna()), 'Residential Type'] = \"Single Family\"\n",
    "\n"
   ]
  },
  {
   "cell_type": "code",
   "execution_count": 33,
   "id": "d9d54c55-3e72-47e2-adf2-754c46265315",
   "metadata": {},
   "outputs": [
    {
     "name": "stdout",
     "output_type": "stream",
     "text": [
      "Missing values in Residential Type: 0\n",
      "Unique Residential Types: ['Single Family', 'Three Family', 'Not Residential', 'Two Family', 'Condo', ..., 'Condominium', 'Two-Family Home', 'Single Family Home', 'Three-Family Home', 'Four-Family Home']\n",
      "Length: 11\n",
      "Categories (11, object): ['Condo', 'Condominium', 'Four Family', 'Four-Family Home', ..., 'Three Family', 'Three-Family Home', 'Two Family', 'Two-Family Home']\n"
     ]
    }
   ],
   "source": [
    "# Step 1: Convert 'Residential Type' to a string to avoid categorical issues\n",
    "df['Residential Type'] = df['Residential Type'].astype(str)\n",
    "\n",
    "# Step 2: Fill missing values with appropriate text-based Residential Types\n",
    "df.loc[(df['Property Type'] == \"Residential\") & (df['Residential Type'].isna()), 'Residential Type'] = \"General Residential\"\n",
    "df.loc[df['Property Type'] == \"Single Family\", 'Residential Type'] = \"Single Family Home\"\n",
    "df.loc[df['Property Type'] == \"Two Family\", 'Residential Type'] = \"Two-Family Home\"\n",
    "df.loc[df['Property Type'] == \"Three Family\", 'Residential Type'] = \"Three-Family Home\"\n",
    "df.loc[df['Property Type'] == \"Four Family\", 'Residential Type'] = \"Four-Family Home\"\n",
    "df.loc[df['Property Type'] == \"Condo\", 'Residential Type'] = \"Condominium\"\n",
    "\n",
    "# Step 3: Assign a default value for other property types\n",
    "df.loc[df['Property Type'].isin([\"Commercial\", \"Industrial\", \"Vacant Land\", \"Public Utility\", \"Apartments\"]), 'Residential Type'] = \"Not Residential\"\n",
    "\n",
    "# Step 4: Convert back to categorical for optimization\n",
    "df['Residential Type'] = df['Residential Type'].astype('category')\n",
    "\n",
    "# Step 5: Verify missing values\n",
    "print(\"Missing values in Residential Type:\", df['Residential Type'].isna().sum())\n",
    "\n",
    "# Step 6: Check unique values\n",
    "print(\"Unique Residential Types:\", df['Residential Type'].unique())\n"
   ]
  },
  {
   "cell_type": "code",
   "execution_count": 35,
   "id": "86265dba-9cf5-4be5-8a34-6b4e3eee07c1",
   "metadata": {},
   "outputs": [
    {
     "name": "stdout",
     "output_type": "stream",
     "text": [
      "Unique Residential Types (After Standardization): ['Single Family', 'Three Family', 'Not Residential', 'Two Family', 'Condo', 'Four Family']\n",
      "Categories (6, object): ['Condo', 'Four Family', 'Not Residential', 'Single Family', 'Three Family', 'Two Family']\n"
     ]
    }
   ],
   "source": [
    "# Standardizing Residential Type values\n",
    "df['Residential Type'] = df['Residential Type'].replace({\n",
    "    \"Condominium\": \"Condo\",\n",
    "    \"Two-Family Home\": \"Two Family\",\n",
    "    \"Three-Family Home\": \"Three Family\",\n",
    "    \"Four-Family Home\": \"Four Family\",\n",
    "    \"Single Family Home\": \"Single Family\"\n",
    "})\n",
    "df['Residential Type'] = df['Residential Type'].astype('category')\n",
    "print(\"Unique Residential Types (After Standardization):\", df['Residential Type'].unique())\n"
   ]
  },
  {
   "cell_type": "code",
   "execution_count": null,
   "id": "aa6fa61c-d444-47d3-ada4-513730bd59ae",
   "metadata": {},
   "outputs": [],
   "source": []
  },
  {
   "cell_type": "code",
   "execution_count": null,
   "id": "2ddb5d69-e894-44e9-941b-cd6cb5350c2b",
   "metadata": {},
   "outputs": [],
   "source": []
  },
  {
   "cell_type": "code",
   "execution_count": 37,
   "id": "53d59dff-5d1a-4961-bf24-0bec07f40126",
   "metadata": {},
   "outputs": [
    {
     "name": "stdout",
     "output_type": "stream",
     "text": [
      "T-statistic: 27.9086\n",
      "P-value (full precision): 0.0000000000\n",
      "✅ Reject the null hypothesis: Single-Family homes have a significantly higher average sale price than Condos.\n"
     ]
    }
   ],
   "source": [
    "from scipy.stats import ttest_ind\n",
    "\n",
    "# Extract sale prices for Single-Family and Condo properties\n",
    "single_family_prices = df[df['Residential Type'] == 'Single Family']['Sale Amount'].dropna()\n",
    "condo_prices = df[df['Residential Type'] == 'Condo']['Sale Amount'].dropna()\n",
    "\n",
    "# Perform t-test\n",
    "t_stat, p_value = ttest_ind(single_family_prices, condo_prices, equal_var=False)\n",
    "\n",
    "# Print results\n",
    "print(f\"T-statistic: {t_stat:.4f}\")\n",
    "\n",
    "print(f\"P-value (full precision): {p_value:.10f}\")\n",
    "\n",
    "# Conclusion\n",
    "alpha = 0.05  # 5% significance level\n",
    "if p_value < alpha:\n",
    "    print(\"✅ Reject the null hypothesis: Single-Family homes have a significantly higher average sale price than Condos.\")\n",
    "else:\n",
    "    print(\"❌ Fail to reject the null hypothesis: No significant difference in average sale prices.\")\n"
   ]
  },
  {
   "cell_type": "code",
   "execution_count": null,
   "id": "6a86dedd-7e81-4d9d-9818-98f5f1736267",
   "metadata": {},
   "outputs": [],
   "source": []
  },
  {
   "cell_type": "code",
   "execution_count": 38,
   "id": "37013a30-1117-4c2c-a69f-68db91e882af",
   "metadata": {},
   "outputs": [
    {
     "name": "stdout",
     "output_type": "stream",
     "text": [
      "F-statistic: 760.6605, P-value: 0.0000\n",
      "✅ Reject the null hypothesis: Sale prices significantly vary across property types.\n"
     ]
    }
   ],
   "source": [
    "from scipy.stats import f_oneway\n",
    "\n",
    "# Extract sale prices for different Residential Types\n",
    "single_family = df[df['Residential Type'] == 'Single Family']['Sale Amount'].dropna()\n",
    "two_family = df[df['Residential Type'] == 'Two Family']['Sale Amount'].dropna()\n",
    "three_family = df[df['Residential Type'] == 'Three Family']['Sale Amount'].dropna()\n",
    "four_family = df[df['Residential Type'] == 'Four Family']['Sale Amount'].dropna()\n",
    "condo = df[df['Residential Type'] == 'Condo']['Sale Amount'].dropna()\n",
    "\n",
    "# Perform ANOVA test\n",
    "f_stat, p_value = f_oneway(single_family, two_family, three_family, four_family, condo)\n",
    "\n",
    "# Print results\n",
    "print(f\"F-statistic: {f_stat:.4f}, P-value: {p_value:.4f}\")\n",
    "\n",
    "# Conclusion\n",
    "if p_value < alpha:\n",
    "    print(\"✅ Reject the null hypothesis: Sale prices significantly vary across property types.\")\n",
    "else:\n",
    "    print(\"❌ Fail to reject the null hypothesis: No significant difference in sale prices across property types.\")\n"
   ]
  },
  {
   "cell_type": "code",
   "execution_count": 39,
   "id": "aece68eb-3fea-4b74-ba2f-00c74f6207a1",
   "metadata": {},
   "outputs": [
    {
     "name": "stdout",
     "output_type": "stream",
     "text": [
      "Chi-Square Statistic: 850933.6247, P-value: 0.0000\n",
      "✅ Reject the null hypothesis: Property Type and Assessed Value are significantly correlated.\n"
     ]
    }
   ],
   "source": [
    "from scipy.stats import chi2_contingency\n",
    "\n",
    "# Create contingency table\n",
    "contingency_table = pd.crosstab(df['Residential Type'], df['Assessed Value'])\n",
    "\n",
    "# Perform Chi-Square test\n",
    "chi2_stat, p_value, dof, expected = chi2_contingency(contingency_table)\n",
    "\n",
    "# Print results\n",
    "print(f\"Chi-Square Statistic: {chi2_stat:.4f}, P-value: {p_value:.4f}\")\n",
    "\n",
    "# Conclusion\n",
    "if p_value < alpha:\n",
    "    print(\"✅ Reject the null hypothesis: Property Type and Assessed Value are significantly correlated.\")\n",
    "else:\n",
    "    print(\"❌ Fail to reject the null hypothesis: No significant correlation between Property Type and Assessed Value.\")\n"
   ]
  },
  {
   "cell_type": "code",
   "execution_count": 40,
   "id": "b9db93be-4a79-48b1-83df-4e93c64915fa",
   "metadata": {},
   "outputs": [
    {
     "name": "stdout",
     "output_type": "stream",
     "text": [
      "T-statistic: 44.3597, P-value: 0.0000\n",
      "✅ Reject the null hypothesis: Surge pricing significantly impacts sale amounts.\n"
     ]
    }
   ],
   "source": [
    "from scipy.stats import ttest_ind\n",
    "\n",
    "# Define what a \"Surge Pricing\" sale is (e.g., top 25% of the dataset based on sale amount)\n",
    "threshold = df['Sale Amount'].quantile(0.75)  # Upper 25% as 'Surge'\n",
    "surge_sales = df[df['Sale Amount'] >= threshold]['Sale Amount'].dropna()\n",
    "normal_sales = df[df['Sale Amount'] < threshold]['Sale Amount'].dropna()\n",
    "\n",
    "# Perform A/B Testing (Independent T-Test)\n",
    "t_stat, p_value = ttest_ind(surge_sales, normal_sales, equal_var=False)\n",
    "\n",
    "# Print results\n",
    "print(f\"T-statistic: {t_stat:.4f}, P-value: {p_value:.4f}\")\n",
    "\n",
    "# Conclusion\n",
    "alpha = 0.05  # 5% significance level\n",
    "if p_value < alpha:\n",
    "    print(\"✅ Reject the null hypothesis: Surge pricing significantly impacts sale amounts.\")\n",
    "else:\n",
    "    print(\"❌ Fail to reject the null hypothesis: Surge pricing does NOT significantly impact sale amounts.\")\n"
   ]
  },
  {
   "cell_type": "code",
   "execution_count": 41,
   "id": "a591eb5e-7c0f-4a39-829a-d8f963565f3c",
   "metadata": {},
   "outputs": [
    {
     "name": "stdout",
     "output_type": "stream",
     "text": [
      "T-statistic: 0.8899, P-value: 0.3735\n",
      "❌ Fail to reject the null hypothesis: No significant difference in sale prices between 2020 and 2021.\n"
     ]
    }
   ],
   "source": [
    "from scipy.stats import ttest_ind\n",
    "\n",
    "# Extract two groups based on sale years (e.g., 2020 vs. 2021)\n",
    "year_1_sales = df[df['List Year'] == 2020]['Sale Amount'].dropna()\n",
    "year_2_sales = df[df['List Year'] == 2021]['Sale Amount'].dropna()\n",
    "\n",
    "# Perform A/B Testing (T-Test)\n",
    "t_stat, p_value = ttest_ind(year_1_sales, year_2_sales, equal_var=False)\n",
    "\n",
    "# Print results\n",
    "print(f\"T-statistic: {t_stat:.4f}, P-value: {p_value:.4f}\")\n",
    "\n",
    "# Conclusion\n",
    "alpha = 0.05  # 5% significance level\n",
    "if p_value < alpha:\n",
    "    print(\"✅ Reject the null hypothesis: Sale prices were significantly different between 2020 and 2021.\")\n",
    "else:\n",
    "    print(\"❌ Fail to reject the null hypothesis: No significant difference in sale prices between 2020 and 2021.\")\n"
   ]
  },
  {
   "cell_type": "code",
   "execution_count": null,
   "id": "015dfaf4-4464-435b-9628-45c0c8fc5ffa",
   "metadata": {},
   "outputs": [],
   "source": []
  },
  {
   "cell_type": "code",
   "execution_count": 51,
   "id": "01f4b3be-65b3-465f-8398-da0d06e8fc15",
   "metadata": {},
   "outputs": [
    {
     "name": "stdout",
     "output_type": "stream",
     "text": [
      "Pearson Correlation: -0.0004, P-value: 0.6830795686\n",
      "❌ Fail to reject the null hypothesis: No significant relationship between sales amount and sales ratio.\n"
     ]
    }
   ],
   "source": [
    "from scipy.stats import pearsonr\n",
    "\n",
    "# Compute Pearson correlation\n",
    "correlation, p_value = pearsonr(df['Sale Amount'].dropna(), df['Sales Ratio'].dropna())\n",
    "\n",
    "print(f\"Pearson Correlation: {correlation:.4f}, P-value: {p_value:.10f}\")\n",
    "\n",
    "# Conclusion\n",
    "alpha = 0.05\n",
    "if p_value < alpha:\n",
    "    print(\"✅ Reject the null hypothesis: Higher sales amounts have significantly different sales ratios.\")\n",
    "else:\n",
    "    print(\"❌ Fail to reject the null hypothesis: No significant relationship between sales amount and sales ratio.\")\n"
   ]
  },
  {
   "cell_type": "code",
   "execution_count": null,
   "id": "52d12bc7-a4f5-4b86-8bf3-137eba7bb756",
   "metadata": {},
   "outputs": [],
   "source": []
  },
  {
   "cell_type": "code",
   "execution_count": 1,
   "id": "b7e6cae6-b23c-4b24-9387-078ad068bc37",
   "metadata": {},
   "outputs": [
    {
     "name": "stdout",
     "output_type": "stream",
     "text": [
      "Requirement already satisfied: streamlit in /opt/anaconda3/lib/python3.12/site-packages (1.37.1)\n",
      "Requirement already satisfied: plotly in /opt/anaconda3/lib/python3.12/site-packages (5.24.1)\n",
      "Requirement already satisfied: pandas in /opt/anaconda3/lib/python3.12/site-packages (2.2.2)\n",
      "Requirement already satisfied: altair<6,>=4.0 in /opt/anaconda3/lib/python3.12/site-packages (from streamlit) (5.0.1)\n",
      "Requirement already satisfied: blinker<2,>=1.0.0 in /opt/anaconda3/lib/python3.12/site-packages (from streamlit) (1.6.2)\n",
      "Requirement already satisfied: cachetools<6,>=4.0 in /opt/anaconda3/lib/python3.12/site-packages (from streamlit) (5.3.3)\n",
      "Requirement already satisfied: click<9,>=7.0 in /opt/anaconda3/lib/python3.12/site-packages (from streamlit) (8.1.7)\n",
      "Requirement already satisfied: numpy<3,>=1.20 in /opt/anaconda3/lib/python3.12/site-packages (from streamlit) (1.26.4)\n",
      "Requirement already satisfied: packaging<25,>=20 in /opt/anaconda3/lib/python3.12/site-packages (from streamlit) (24.1)\n",
      "Requirement already satisfied: pillow<11,>=7.1.0 in /opt/anaconda3/lib/python3.12/site-packages (from streamlit) (10.4.0)\n",
      "Requirement already satisfied: protobuf<6,>=3.20 in /opt/anaconda3/lib/python3.12/site-packages (from streamlit) (4.25.3)\n",
      "Requirement already satisfied: pyarrow>=7.0 in /opt/anaconda3/lib/python3.12/site-packages (from streamlit) (16.1.0)\n",
      "Requirement already satisfied: requests<3,>=2.27 in /opt/anaconda3/lib/python3.12/site-packages (from streamlit) (2.32.3)\n",
      "Requirement already satisfied: rich<14,>=10.14.0 in /opt/anaconda3/lib/python3.12/site-packages (from streamlit) (13.7.1)\n",
      "Requirement already satisfied: tenacity<9,>=8.1.0 in /opt/anaconda3/lib/python3.12/site-packages (from streamlit) (8.2.3)\n",
      "Requirement already satisfied: toml<2,>=0.10.1 in /opt/anaconda3/lib/python3.12/site-packages (from streamlit) (0.10.2)\n",
      "Requirement already satisfied: typing-extensions<5,>=4.3.0 in /opt/anaconda3/lib/python3.12/site-packages (from streamlit) (4.11.0)\n",
      "Requirement already satisfied: gitpython!=3.1.19,<4,>=3.0.7 in /opt/anaconda3/lib/python3.12/site-packages (from streamlit) (3.1.43)\n",
      "Requirement already satisfied: pydeck<1,>=0.8.0b4 in /opt/anaconda3/lib/python3.12/site-packages (from streamlit) (0.8.0)\n",
      "Requirement already satisfied: tornado<7,>=6.0.3 in /opt/anaconda3/lib/python3.12/site-packages (from streamlit) (6.4.1)\n",
      "Requirement already satisfied: python-dateutil>=2.8.2 in /opt/anaconda3/lib/python3.12/site-packages (from pandas) (2.9.0.post0)\n",
      "Requirement already satisfied: pytz>=2020.1 in /opt/anaconda3/lib/python3.12/site-packages (from pandas) (2024.1)\n",
      "Requirement already satisfied: tzdata>=2022.7 in /opt/anaconda3/lib/python3.12/site-packages (from pandas) (2023.3)\n",
      "Requirement already satisfied: jinja2 in /opt/anaconda3/lib/python3.12/site-packages (from altair<6,>=4.0->streamlit) (3.1.4)\n",
      "Requirement already satisfied: jsonschema>=3.0 in /opt/anaconda3/lib/python3.12/site-packages (from altair<6,>=4.0->streamlit) (4.23.0)\n",
      "Requirement already satisfied: toolz in /opt/anaconda3/lib/python3.12/site-packages (from altair<6,>=4.0->streamlit) (0.12.0)\n",
      "Requirement already satisfied: gitdb<5,>=4.0.1 in /opt/anaconda3/lib/python3.12/site-packages (from gitpython!=3.1.19,<4,>=3.0.7->streamlit) (4.0.7)\n",
      "Requirement already satisfied: six>=1.5 in /opt/anaconda3/lib/python3.12/site-packages (from python-dateutil>=2.8.2->pandas) (1.16.0)\n",
      "Requirement already satisfied: charset-normalizer<4,>=2 in /opt/anaconda3/lib/python3.12/site-packages (from requests<3,>=2.27->streamlit) (3.3.2)\n",
      "Requirement already satisfied: idna<4,>=2.5 in /opt/anaconda3/lib/python3.12/site-packages (from requests<3,>=2.27->streamlit) (3.7)\n",
      "Requirement already satisfied: urllib3<3,>=1.21.1 in /opt/anaconda3/lib/python3.12/site-packages (from requests<3,>=2.27->streamlit) (2.2.3)\n",
      "Requirement already satisfied: certifi>=2017.4.17 in /opt/anaconda3/lib/python3.12/site-packages (from requests<3,>=2.27->streamlit) (2024.8.30)\n",
      "Requirement already satisfied: markdown-it-py>=2.2.0 in /opt/anaconda3/lib/python3.12/site-packages (from rich<14,>=10.14.0->streamlit) (2.2.0)\n",
      "Requirement already satisfied: pygments<3.0.0,>=2.13.0 in /opt/anaconda3/lib/python3.12/site-packages (from rich<14,>=10.14.0->streamlit) (2.15.1)\n",
      "Requirement already satisfied: smmap<5,>=3.0.1 in /opt/anaconda3/lib/python3.12/site-packages (from gitdb<5,>=4.0.1->gitpython!=3.1.19,<4,>=3.0.7->streamlit) (4.0.0)\n",
      "Requirement already satisfied: MarkupSafe>=2.0 in /opt/anaconda3/lib/python3.12/site-packages (from jinja2->altair<6,>=4.0->streamlit) (2.1.3)\n",
      "Requirement already satisfied: attrs>=22.2.0 in /opt/anaconda3/lib/python3.12/site-packages (from jsonschema>=3.0->altair<6,>=4.0->streamlit) (23.1.0)\n",
      "Requirement already satisfied: jsonschema-specifications>=2023.03.6 in /opt/anaconda3/lib/python3.12/site-packages (from jsonschema>=3.0->altair<6,>=4.0->streamlit) (2023.7.1)\n",
      "Requirement already satisfied: referencing>=0.28.4 in /opt/anaconda3/lib/python3.12/site-packages (from jsonschema>=3.0->altair<6,>=4.0->streamlit) (0.30.2)\n",
      "Requirement already satisfied: rpds-py>=0.7.1 in /opt/anaconda3/lib/python3.12/site-packages (from jsonschema>=3.0->altair<6,>=4.0->streamlit) (0.10.6)\n",
      "Requirement already satisfied: mdurl~=0.1 in /opt/anaconda3/lib/python3.12/site-packages (from markdown-it-py>=2.2.0->rich<14,>=10.14.0->streamlit) (0.1.0)\n",
      "Note: you may need to restart the kernel to use updated packages.\n"
     ]
    }
   ],
   "source": [
    "pip install streamlit plotly pandas\n"
   ]
  },
  {
   "cell_type": "code",
   "execution_count": 6,
   "id": "caf76731-cd91-4064-9ac0-da2fa81dc28d",
   "metadata": {},
   "outputs": [
    {
     "name": "stderr",
     "output_type": "stream",
     "text": [
      "2025-03-18 09:06:45.612 No runtime found, using MemoryCacheStorageManager\n"
     ]
    },
    {
     "data": {
      "text/plain": [
       "DeltaGenerator()"
      ]
     },
     "execution_count": 6,
     "metadata": {},
     "output_type": "execute_result"
    }
   ],
   "source": [
    "import streamlit as st\n",
    "import pandas as pd\n",
    "import plotly.express as px\n",
    "\n",
    "# Load the dataset\n",
    "@st.cache_data\n",
    "def load_data():\n",
    "    df = pd.read_csv(\"Real_Estate.csv\", low_memory=False)  # Prevents memory optimization issues\n",
    "\n",
    "    df[\"Date Recorded\"] = pd.to_datetime(df[\"Date Recorded\"], errors=\"coerce\")\n",
    "    return df\n",
    "\n",
    "df = load_data()\n",
    "\n",
    "# ------------------- Sidebar Filters -------------------\n",
    "st.sidebar.header(\"Filters\")\n",
    "property_types = df[\"Property Type\"].dropna().unique().tolist()  # Remove NaN\n",
    "\n",
    "\n",
    "# Ensure the default values exist in the options\n",
    "if property_types:  # Check if list is not empty\n",
    "    property_filter = st.sidebar.multiselect(\"Select Property Type\", property_types, default=property_types)\n",
    "else:\n",
    "    property_filter = st.sidebar.multiselect(\"Select Property Type\", [])\n",
    "\n",
    "town_filter = st.sidebar.multiselect(\"Select Town\", df[\"Town\"].dropna().unique(), default=df[\"Town\"].unique())\n",
    "\n",
    "# Apply filters\n",
    "filtered_df = df[(df[\"List Year\"].isin(year_filter)) & \n",
    "                 (df[\"Property Type\"].isin(property_filter)) & \n",
    "                 (df[\"Town\"].isin(town_filter))]\n",
    "\n",
    "# ------------------- KPI Metrics -------------------\n",
    "total_sales = filtered_df[\"Sale Amount\"].sum()\n",
    "average_price = filtered_df[\"Sale Amount\"].mean()\n",
    "property_count = filtered_df[\"Address\"].nunique()\n",
    "\n",
    "\n",
    "col1, col2, col3 = st.columns(3)\n",
    "col1.metric(\"Total Sales ($)\", f\"{total_sales:,.0f}\")\n",
    "col2.metric(\"Average Sale Price ($)\", f\"{average_price:,.0f}\")\n",
    "col3.metric(\"Total Properties Sold\", f\"{property_count:,}\")\n",
    "\n",
    "# ------------------- Plot 1: Sales Trend -------------------\n",
    "st.subheader(\"📈 Sales Trend Over Time\")\n",
    "sales_trend = filtered_df.groupby(\"List Year\")[\"Sale Amount\"].sum().reset_index()\n",
    "fig1 = px.line(sales_trend, x=\"List Year\", y=\"Sale Amount\", title=\"Total Sales Over Years\", markers=True)\n",
    "st.plotly_chart(fig1, use_container_width=True)\n",
    "\n",
    "# ------------------- Plot 2: Property Type Distribution -------------------\n",
    "st.subheader(\"🏡 Property Type Distribution\")\n",
    "property_count_df = filtered_df[\"Property Type\"].value_counts().reset_index()\n",
    "property_count_df.columns = [\"Property Type\", \"Count\"]\n",
    "fig2 = px.pie(property_count_df, values=\"Count\", names=\"Property Type\", title=\"Distribution of Property Types\")\n",
    "st.plotly_chart(fig2, use_container_width=True)\n",
    "\n",
    "# ------------------- Plot 3: Sales Amount by Town -------------------\n",
    "st.subheader(\"🏙️ Sales by Town\")\n",
    "sales_by_town = filtered_df.groupby(\"Town\")[\"Sale Amount\"].sum().reset_index()\n",
    "fig3 = px.bar(sales_by_town, x=\"Sale Amount\", y=\"Town\", title=\"Total Sales per Town\", orientation=\"h\")\n",
    "st.plotly_chart(fig3, use_container_width=True)\n",
    "\n",
    "# ------------------- Plot 4: Assessed Value vs. Sale Price -------------------\n",
    "st.subheader(\"💰 Assessed Value vs. Sale Price\")\n",
    "fig4 = px.scatter(filtered_df, x=\"Assessed Value\", y=\"Sale Amount\", color=\"Property Type\",\n",
    "                  title=\"Assessed Value vs. Sale Price\", trendline=\"ols\")\n",
    "st.plotly_chart(fig4, use_container_width=True)\n",
    "\n",
    "# ------------------- Summary -------------------\n",
    "st.markdown(\"\"\"\n",
    "### 🔍 Key Insights:\n",
    "1. **Sales Trends:** Check how real estate sales are fluctuating over time.\n",
    "2. **Property Distribution:** See which types of properties are most common.\n",
    "3. **Sales by Town:** Understand which towns contribute the most to sales.\n",
    "4. **Value vs. Price:** Compare assessed value with the actual sale price.\n",
    "\"\"\")\n"
   ]
  },
  {
   "cell_type": "code",
   "execution_count": 4,
   "id": "cdc5ef72-89ab-4262-950d-a6426fd2c79b",
   "metadata": {},
   "outputs": [
    {
     "data": {
      "text/plain": [
       "Index(['Serial Number', 'List Year', 'Date Recorded', 'Town', 'Address',\n",
       "       'Assessed Value', 'Sale Amount', 'Sales Ratio', 'Property Type',\n",
       "       'Residential Type', 'Non Use Code', 'Assessor Remarks', 'OPM remarks',\n",
       "       'Location'],\n",
       "      dtype='object')"
      ]
     },
     "execution_count": 4,
     "metadata": {},
     "output_type": "execute_result"
    }
   ],
   "source": [
    "df.columns"
   ]
  },
  {
   "cell_type": "code",
   "execution_count": null,
   "id": "d13e6818-982c-4f14-9db0-c0d66007aa2e",
   "metadata": {},
   "outputs": [],
   "source": []
  }
 ],
 "metadata": {
  "kernelspec": {
   "display_name": "Python [conda env:base] *",
   "language": "python",
   "name": "conda-base-py"
  },
  "language_info": {
   "codemirror_mode": {
    "name": "ipython",
    "version": 3
   },
   "file_extension": ".py",
   "mimetype": "text/x-python",
   "name": "python",
   "nbconvert_exporter": "python",
   "pygments_lexer": "ipython3",
   "version": "3.12.7"
  }
 },
 "nbformat": 4,
 "nbformat_minor": 5
}
